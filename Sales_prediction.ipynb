{
  "nbformat": 4,
  "nbformat_minor": 0,
  "metadata": {
    "colab": {
      "name": "Sales_prediction.ipynb",
      "provenance": [],
      "collapsed_sections": [],
      "toc_visible": true,
      "include_colab_link": true
    },
    "kernelspec": {
      "name": "python3",
      "display_name": "Python 3"
    },
    "language_info": {
      "name": "python"
    },
    "accelerator": "TPU"
  },
  "cells": [
    {
      "cell_type": "markdown",
      "metadata": {
        "id": "view-in-github",
        "colab_type": "text"
      },
      "source": [
        "<a href=\"https://colab.research.google.com/github/mukesh527/MLApp/blob/main/Sales_prediction.ipynb\" target=\"_parent\"><img src=\"https://colab.research.google.com/assets/colab-badge.svg\" alt=\"Open In Colab\"/></a>"
      ]
    },
    {
      "cell_type": "markdown",
      "metadata": {
        "id": "hemMZy3WXA90"
      },
      "source": [
        "## **Sales Prediction Model File**"
      ]
    },
    {
      "cell_type": "markdown",
      "metadata": {
        "id": "HRe2xM4gXY5Y"
      },
      "source": [
        "# Reading & Analysing Data"
      ]
    },
    {
      "cell_type": "code",
      "metadata": {
        "colab": {
          "base_uri": "https://localhost:8080/"
        },
        "id": "RkUZDeUoVbx0",
        "outputId": "ee4ffb8c-a287-4d78-fb91-1195c090147b"
      },
      "source": [
        "from google.colab import drive\n",
        "drive.mount('/content/drive')"
      ],
      "execution_count": 11,
      "outputs": [
        {
          "output_type": "stream",
          "text": [
            "Mounted at /content/drive\n"
          ],
          "name": "stdout"
        }
      ]
    },
    {
      "cell_type": "code",
      "metadata": {
        "id": "Z4S0vkXwEtOI"
      },
      "source": [
        "#!pip install geopandas"
      ],
      "execution_count": null,
      "outputs": []
    },
    {
      "cell_type": "markdown",
      "metadata": {
        "id": "CaYloiKcXvOg"
      },
      "source": [
        "**Reading input data**"
      ]
    },
    {
      "cell_type": "code",
      "metadata": {
        "id": "Fd-qSCoHXrvF"
      },
      "source": [
        "import pandas as pd\n",
        "import numpy as np\n",
        "#import geopandas as gpd\n",
        "\n",
        "import matplotlib.pyplot as plt"
      ],
      "execution_count": 30,
      "outputs": []
    },
    {
      "cell_type": "markdown",
      "metadata": {
        "id": "tco6vRr_fg0Z"
      },
      "source": [
        "Function to Reduce Dataframe memory"
      ]
    },
    {
      "cell_type": "code",
      "metadata": {
        "id": "pluH9FW6fdbq"
      },
      "source": [
        "#***** Function to reduce dataframe memory**************************************#\n",
        "\n",
        "def reduce_mem_usage(props):\n",
        "    start_mem_usg = props.memory_usage().sum() / 1024**2 \n",
        "    print(\"Memory usage of properties dataframe is :\",start_mem_usg,\" MB\")\n",
        "    NAlist = [] # Keeps track of columns that have missing values filled in. \n",
        "    for col in props.columns:\n",
        "        if props[col].dtype != object:  # Exclude strings\n",
        "            \n",
        "            # Print current column type\n",
        "            print(\"******************************\")\n",
        "            print(\"Column: \",col)\n",
        "            print(\"dtype before: \",props[col].dtype)\n",
        "            \n",
        "            # make variables for Int, max and min\n",
        "            IsInt = False\n",
        "            mx = props[col].max()\n",
        "            mn = props[col].min()\n",
        "            \n",
        "            # Integer does not support NA, therefore, NA needs to be filled\n",
        "            if not np.isfinite(props[col]).all(): \n",
        "                NAlist.append(col)\n",
        "                props[col].fillna(mn-1,inplace=True)  \n",
        "                   \n",
        "            # test if column can be converted to an integer\n",
        "            asint = props[col].fillna(0).astype(np.int64)\n",
        "            result = (props[col] - asint)\n",
        "            result = result.sum()\n",
        "            if result > -0.01 and result < 0.01:\n",
        "                IsInt = True\n",
        "\n",
        "            \n",
        "            # Make Integer/unsigned Integer datatypes\n",
        "            if IsInt:\n",
        "                if mn >= 0:\n",
        "                    if mx < 255:\n",
        "                        props[col] = props[col].astype(np.uint8)\n",
        "                    elif mx < 65535:\n",
        "                        props[col] = props[col].astype(np.uint16)\n",
        "                    elif mx < 4294967295:\n",
        "                        props[col] = props[col].astype(np.uint32)\n",
        "                    else:\n",
        "                        props[col] = props[col].astype(np.uint64)\n",
        "                else:\n",
        "                    if mn > np.iinfo(np.int8).min and mx < np.iinfo(np.int8).max:\n",
        "                        props[col] = props[col].astype(np.int8)\n",
        "                    elif mn > np.iinfo(np.int16).min and mx < np.iinfo(np.int16).max:\n",
        "                        props[col] = props[col].astype(np.int16)\n",
        "                    elif mn > np.iinfo(np.int32).min and mx < np.iinfo(np.int32).max:\n",
        "                        props[col] = props[col].astype(np.int32)\n",
        "                    elif mn > np.iinfo(np.int64).min and mx < np.iinfo(np.int64).max:\n",
        "                        props[col] = props[col].astype(np.int64)    \n",
        "            \n",
        "            # Make float datatypes 32 bit\n",
        "            else:\n",
        "                props[col] = props[col].astype(np.float32)\n",
        "            \n",
        "            # Print new column type\n",
        "            print(\"dtype after: \",props[col].dtype)\n",
        "            print(\"******************************\")\n",
        "    \n",
        "    # Print final result\n",
        "    print(\"___MEMORY USAGE AFTER COMPLETION:___\")\n",
        "    mem_usg = props.memory_usage().sum() / 1024**2 \n",
        "    print(\"Memory usage is: \",mem_usg,\" MB\")\n",
        "    print(\"This is \",100*mem_usg/start_mem_usg,\"% of the initial size\")\n",
        "    return props, NAlist\n",
        "\n",
        "#*******************************************************************************************************"
      ],
      "execution_count": null,
      "outputs": []
    },
    {
      "cell_type": "code",
      "metadata": {
        "colab": {
          "base_uri": "https://localhost:8080/"
        },
        "id": "TWPsTfS-X6jM",
        "outputId": "c038927e-4cb2-4169-d8e5-e33d17d7057a"
      },
      "source": [
        "train=pd.read_csv('/content/drive/MyDrive/Final Hack/train.csv')\n"
      ],
      "execution_count": null,
      "outputs": [
        {
          "output_type": "stream",
          "text": [
            "/usr/local/lib/python3.7/dist-packages/IPython/core/interactiveshell.py:2718: DtypeWarning: Columns (4) have mixed types.Specify dtype option on import or set low_memory=False.\n",
            "  interactivity=interactivity, compiler=compiler, result=result)\n"
          ],
          "name": "stderr"
        }
      ]
    },
    {
      "cell_type": "code",
      "metadata": {
        "colab": {
          "base_uri": "https://localhost:8080/",
          "height": 204
        },
        "id": "SiPUuNc6ALhl",
        "outputId": "35cf029f-85c9-4a5a-eeb7-e2eaf01b180d"
      },
      "source": [
        "train.head()\n"
      ],
      "execution_count": null,
      "outputs": [
        {
          "output_type": "execute_result",
          "data": {
            "text/html": [
              "<div>\n",
              "<style scoped>\n",
              "    .dataframe tbody tr th:only-of-type {\n",
              "        vertical-align: middle;\n",
              "    }\n",
              "\n",
              "    .dataframe tbody tr th {\n",
              "        vertical-align: top;\n",
              "    }\n",
              "\n",
              "    .dataframe thead th {\n",
              "        text-align: right;\n",
              "    }\n",
              "</style>\n",
              "<table border=\"1\" class=\"dataframe\">\n",
              "  <thead>\n",
              "    <tr style=\"text-align: right;\">\n",
              "      <th></th>\n",
              "      <th>date</th>\n",
              "      <th>locationId</th>\n",
              "      <th>item_id</th>\n",
              "      <th>unit_sales</th>\n",
              "      <th>onpromotion</th>\n",
              "    </tr>\n",
              "  </thead>\n",
              "  <tbody>\n",
              "    <tr>\n",
              "      <th>0</th>\n",
              "      <td>2015-01-01</td>\n",
              "      <td>location_25</td>\n",
              "      <td>item_103665</td>\n",
              "      <td>7.0</td>\n",
              "      <td>NaN</td>\n",
              "    </tr>\n",
              "    <tr>\n",
              "      <th>1</th>\n",
              "      <td>2015-01-01</td>\n",
              "      <td>location_25</td>\n",
              "      <td>item_105574</td>\n",
              "      <td>1.0</td>\n",
              "      <td>NaN</td>\n",
              "    </tr>\n",
              "    <tr>\n",
              "      <th>2</th>\n",
              "      <td>2015-01-01</td>\n",
              "      <td>location_25</td>\n",
              "      <td>item_105575</td>\n",
              "      <td>2.0</td>\n",
              "      <td>NaN</td>\n",
              "    </tr>\n",
              "    <tr>\n",
              "      <th>3</th>\n",
              "      <td>2015-01-01</td>\n",
              "      <td>location_25</td>\n",
              "      <td>item_108079</td>\n",
              "      <td>1.0</td>\n",
              "      <td>NaN</td>\n",
              "    </tr>\n",
              "    <tr>\n",
              "      <th>4</th>\n",
              "      <td>2015-01-01</td>\n",
              "      <td>location_25</td>\n",
              "      <td>item_108701</td>\n",
              "      <td>1.0</td>\n",
              "      <td>NaN</td>\n",
              "    </tr>\n",
              "  </tbody>\n",
              "</table>\n",
              "</div>"
            ],
            "text/plain": [
              "        date   locationId      item_id  unit_sales onpromotion\n",
              "0 2015-01-01  location_25  item_103665         7.0         NaN\n",
              "1 2015-01-01  location_25  item_105574         1.0         NaN\n",
              "2 2015-01-01  location_25  item_105575         2.0         NaN\n",
              "3 2015-01-01  location_25  item_108079         1.0         NaN\n",
              "4 2015-01-01  location_25  item_108701         1.0         NaN"
            ]
          },
          "metadata": {
            "tags": []
          },
          "execution_count": 9
        }
      ]
    },
    {
      "cell_type": "code",
      "metadata": {
        "id": "Y94dyCaf_TWf"
      },
      "source": [
        "#train['date'] =  pd.to_datetime(train['date'], format='%Y-%m-%d')\n",
        "train['locationId']=train['locationId'].astype('category')\n",
        "train['item_id']=train['item_id'].astype('category')\n",
        "train['onpromotion']=train['onpromotion'].astype('category')"
      ],
      "execution_count": null,
      "outputs": []
    },
    {
      "cell_type": "code",
      "metadata": {
        "colab": {
          "base_uri": "https://localhost:8080/",
          "height": 1000
        },
        "id": "QPyNayeAggL9",
        "outputId": "83d36c87-bb02-4375-f544-9a35277395c3"
      },
      "source": [
        "train, NAlist = reduce_mem_usage(train)\n",
        "print(\"_________________\")\n",
        "print(\"\")\n",
        "print(\"Warning: the following columns have missing values filled with 'df['column_name'].min() -1': \")\n",
        "print(\"_________________\")\n",
        "print(\"\")\n",
        "print(NAlist)"
      ],
      "execution_count": null,
      "outputs": [
        {
          "output_type": "stream",
          "text": [
            "Memory usage of properties dataframe is : 1551.8366165161133  MB\n",
            "******************************\n",
            "Column:  date\n",
            "dtype before:  datetime64[ns]\n"
          ],
          "name": "stdout"
        },
        {
          "output_type": "error",
          "ename": "TypeError",
          "evalue": "ignored",
          "traceback": [
            "\u001b[0;31m---------------------------------------------------------------------------\u001b[0m",
            "\u001b[0;31mTypeError\u001b[0m                                 Traceback (most recent call last)",
            "\u001b[0;32m<ipython-input-13-c57646a29872>\u001b[0m in \u001b[0;36m<module>\u001b[0;34m()\u001b[0m\n\u001b[0;32m----> 1\u001b[0;31m \u001b[0mtrain\u001b[0m\u001b[0;34m,\u001b[0m \u001b[0mNAlist\u001b[0m \u001b[0;34m=\u001b[0m \u001b[0mreduce_mem_usage\u001b[0m\u001b[0;34m(\u001b[0m\u001b[0mtrain\u001b[0m\u001b[0;34m)\u001b[0m\u001b[0;34m\u001b[0m\u001b[0;34m\u001b[0m\u001b[0m\n\u001b[0m\u001b[1;32m      2\u001b[0m \u001b[0mprint\u001b[0m\u001b[0;34m(\u001b[0m\u001b[0;34m\"_________________\"\u001b[0m\u001b[0;34m)\u001b[0m\u001b[0;34m\u001b[0m\u001b[0;34m\u001b[0m\u001b[0m\n\u001b[1;32m      3\u001b[0m \u001b[0mprint\u001b[0m\u001b[0;34m(\u001b[0m\u001b[0;34m\"\"\u001b[0m\u001b[0;34m)\u001b[0m\u001b[0;34m\u001b[0m\u001b[0;34m\u001b[0m\u001b[0m\n\u001b[1;32m      4\u001b[0m \u001b[0mprint\u001b[0m\u001b[0;34m(\u001b[0m\u001b[0;34m\"Warning: the following columns have missing values filled with 'df['column_name'].min() -1': \"\u001b[0m\u001b[0;34m)\u001b[0m\u001b[0;34m\u001b[0m\u001b[0;34m\u001b[0m\u001b[0m\n\u001b[1;32m      5\u001b[0m \u001b[0mprint\u001b[0m\u001b[0;34m(\u001b[0m\u001b[0;34m\"_________________\"\u001b[0m\u001b[0;34m)\u001b[0m\u001b[0;34m\u001b[0m\u001b[0;34m\u001b[0m\u001b[0m\n",
            "\u001b[0;32m<ipython-input-2-ae06d3b7158f>\u001b[0m in \u001b[0;36mreduce_mem_usage\u001b[0;34m(props)\u001b[0m\n\u001b[1;32m     25\u001b[0m             \u001b[0;31m# test if column can be converted to an integer\u001b[0m\u001b[0;34m\u001b[0m\u001b[0;34m\u001b[0m\u001b[0;34m\u001b[0m\u001b[0m\n\u001b[1;32m     26\u001b[0m             \u001b[0masint\u001b[0m \u001b[0;34m=\u001b[0m \u001b[0mprops\u001b[0m\u001b[0;34m[\u001b[0m\u001b[0mcol\u001b[0m\u001b[0;34m]\u001b[0m\u001b[0;34m.\u001b[0m\u001b[0mfillna\u001b[0m\u001b[0;34m(\u001b[0m\u001b[0;36m0\u001b[0m\u001b[0;34m)\u001b[0m\u001b[0;34m.\u001b[0m\u001b[0mastype\u001b[0m\u001b[0;34m(\u001b[0m\u001b[0mnp\u001b[0m\u001b[0;34m.\u001b[0m\u001b[0mint64\u001b[0m\u001b[0;34m)\u001b[0m\u001b[0;34m\u001b[0m\u001b[0;34m\u001b[0m\u001b[0m\n\u001b[0;32m---> 27\u001b[0;31m             \u001b[0mresult\u001b[0m \u001b[0;34m=\u001b[0m \u001b[0;34m(\u001b[0m\u001b[0mprops\u001b[0m\u001b[0;34m[\u001b[0m\u001b[0mcol\u001b[0m\u001b[0;34m]\u001b[0m \u001b[0;34m-\u001b[0m \u001b[0masint\u001b[0m\u001b[0;34m)\u001b[0m\u001b[0;34m\u001b[0m\u001b[0;34m\u001b[0m\u001b[0m\n\u001b[0m\u001b[1;32m     28\u001b[0m             \u001b[0mresult\u001b[0m \u001b[0;34m=\u001b[0m \u001b[0mresult\u001b[0m\u001b[0;34m.\u001b[0m\u001b[0msum\u001b[0m\u001b[0;34m(\u001b[0m\u001b[0;34m)\u001b[0m\u001b[0;34m\u001b[0m\u001b[0;34m\u001b[0m\u001b[0m\n\u001b[1;32m     29\u001b[0m             \u001b[0;32mif\u001b[0m \u001b[0mresult\u001b[0m \u001b[0;34m>\u001b[0m \u001b[0;34m-\u001b[0m\u001b[0;36m0.01\u001b[0m \u001b[0;32mand\u001b[0m \u001b[0mresult\u001b[0m \u001b[0;34m<\u001b[0m \u001b[0;36m0.01\u001b[0m\u001b[0;34m:\u001b[0m\u001b[0;34m\u001b[0m\u001b[0;34m\u001b[0m\u001b[0m\n",
            "\u001b[0;32m/usr/local/lib/python3.7/dist-packages/pandas/core/ops/common.py\u001b[0m in \u001b[0;36mnew_method\u001b[0;34m(self, other)\u001b[0m\n\u001b[1;32m     63\u001b[0m         \u001b[0mother\u001b[0m \u001b[0;34m=\u001b[0m \u001b[0mitem_from_zerodim\u001b[0m\u001b[0;34m(\u001b[0m\u001b[0mother\u001b[0m\u001b[0;34m)\u001b[0m\u001b[0;34m\u001b[0m\u001b[0;34m\u001b[0m\u001b[0m\n\u001b[1;32m     64\u001b[0m \u001b[0;34m\u001b[0m\u001b[0m\n\u001b[0;32m---> 65\u001b[0;31m         \u001b[0;32mreturn\u001b[0m \u001b[0mmethod\u001b[0m\u001b[0;34m(\u001b[0m\u001b[0mself\u001b[0m\u001b[0;34m,\u001b[0m \u001b[0mother\u001b[0m\u001b[0;34m)\u001b[0m\u001b[0;34m\u001b[0m\u001b[0;34m\u001b[0m\u001b[0m\n\u001b[0m\u001b[1;32m     66\u001b[0m \u001b[0;34m\u001b[0m\u001b[0m\n\u001b[1;32m     67\u001b[0m     \u001b[0;32mreturn\u001b[0m \u001b[0mnew_method\u001b[0m\u001b[0;34m\u001b[0m\u001b[0;34m\u001b[0m\u001b[0m\n",
            "\u001b[0;32m/usr/local/lib/python3.7/dist-packages/pandas/core/ops/__init__.py\u001b[0m in \u001b[0;36mwrapper\u001b[0;34m(left, right)\u001b[0m\n\u001b[1;32m    341\u001b[0m         \u001b[0mlvalues\u001b[0m \u001b[0;34m=\u001b[0m \u001b[0mextract_array\u001b[0m\u001b[0;34m(\u001b[0m\u001b[0mleft\u001b[0m\u001b[0;34m,\u001b[0m \u001b[0mextract_numpy\u001b[0m\u001b[0;34m=\u001b[0m\u001b[0;32mTrue\u001b[0m\u001b[0;34m)\u001b[0m\u001b[0;34m\u001b[0m\u001b[0;34m\u001b[0m\u001b[0m\n\u001b[1;32m    342\u001b[0m         \u001b[0mrvalues\u001b[0m \u001b[0;34m=\u001b[0m \u001b[0mextract_array\u001b[0m\u001b[0;34m(\u001b[0m\u001b[0mright\u001b[0m\u001b[0;34m,\u001b[0m \u001b[0mextract_numpy\u001b[0m\u001b[0;34m=\u001b[0m\u001b[0;32mTrue\u001b[0m\u001b[0;34m)\u001b[0m\u001b[0;34m\u001b[0m\u001b[0;34m\u001b[0m\u001b[0m\n\u001b[0;32m--> 343\u001b[0;31m         \u001b[0mresult\u001b[0m \u001b[0;34m=\u001b[0m \u001b[0marithmetic_op\u001b[0m\u001b[0;34m(\u001b[0m\u001b[0mlvalues\u001b[0m\u001b[0;34m,\u001b[0m \u001b[0mrvalues\u001b[0m\u001b[0;34m,\u001b[0m \u001b[0mop\u001b[0m\u001b[0;34m)\u001b[0m\u001b[0;34m\u001b[0m\u001b[0;34m\u001b[0m\u001b[0m\n\u001b[0m\u001b[1;32m    344\u001b[0m \u001b[0;34m\u001b[0m\u001b[0m\n\u001b[1;32m    345\u001b[0m         \u001b[0;32mreturn\u001b[0m \u001b[0mleft\u001b[0m\u001b[0;34m.\u001b[0m\u001b[0m_construct_result\u001b[0m\u001b[0;34m(\u001b[0m\u001b[0mresult\u001b[0m\u001b[0;34m,\u001b[0m \u001b[0mname\u001b[0m\u001b[0;34m=\u001b[0m\u001b[0mres_name\u001b[0m\u001b[0;34m)\u001b[0m\u001b[0;34m\u001b[0m\u001b[0;34m\u001b[0m\u001b[0m\n",
            "\u001b[0;32m/usr/local/lib/python3.7/dist-packages/pandas/core/ops/array_ops.py\u001b[0m in \u001b[0;36marithmetic_op\u001b[0;34m(left, right, op)\u001b[0m\n\u001b[1;32m    184\u001b[0m     \u001b[0;32mif\u001b[0m \u001b[0mshould_extension_dispatch\u001b[0m\u001b[0;34m(\u001b[0m\u001b[0mlvalues\u001b[0m\u001b[0;34m,\u001b[0m \u001b[0mrvalues\u001b[0m\u001b[0;34m)\u001b[0m \u001b[0;32mor\u001b[0m \u001b[0misinstance\u001b[0m\u001b[0;34m(\u001b[0m\u001b[0mrvalues\u001b[0m\u001b[0;34m,\u001b[0m \u001b[0mTimedelta\u001b[0m\u001b[0;34m)\u001b[0m\u001b[0;34m:\u001b[0m\u001b[0;34m\u001b[0m\u001b[0;34m\u001b[0m\u001b[0m\n\u001b[1;32m    185\u001b[0m         \u001b[0;31m# Timedelta is included because numexpr will fail on it, see GH#31457\u001b[0m\u001b[0;34m\u001b[0m\u001b[0;34m\u001b[0m\u001b[0;34m\u001b[0m\u001b[0m\n\u001b[0;32m--> 186\u001b[0;31m         \u001b[0mres_values\u001b[0m \u001b[0;34m=\u001b[0m \u001b[0mop\u001b[0m\u001b[0;34m(\u001b[0m\u001b[0mlvalues\u001b[0m\u001b[0;34m,\u001b[0m \u001b[0mrvalues\u001b[0m\u001b[0;34m)\u001b[0m\u001b[0;34m\u001b[0m\u001b[0;34m\u001b[0m\u001b[0m\n\u001b[0m\u001b[1;32m    187\u001b[0m \u001b[0;34m\u001b[0m\u001b[0m\n\u001b[1;32m    188\u001b[0m     \u001b[0;32melse\u001b[0m\u001b[0;34m:\u001b[0m\u001b[0;34m\u001b[0m\u001b[0;34m\u001b[0m\u001b[0m\n",
            "\u001b[0;32m/usr/local/lib/python3.7/dist-packages/pandas/core/ops/common.py\u001b[0m in \u001b[0;36mnew_method\u001b[0;34m(self, other)\u001b[0m\n\u001b[1;32m     63\u001b[0m         \u001b[0mother\u001b[0m \u001b[0;34m=\u001b[0m \u001b[0mitem_from_zerodim\u001b[0m\u001b[0;34m(\u001b[0m\u001b[0mother\u001b[0m\u001b[0;34m)\u001b[0m\u001b[0;34m\u001b[0m\u001b[0;34m\u001b[0m\u001b[0m\n\u001b[1;32m     64\u001b[0m \u001b[0;34m\u001b[0m\u001b[0m\n\u001b[0;32m---> 65\u001b[0;31m         \u001b[0;32mreturn\u001b[0m \u001b[0mmethod\u001b[0m\u001b[0;34m(\u001b[0m\u001b[0mself\u001b[0m\u001b[0;34m,\u001b[0m \u001b[0mother\u001b[0m\u001b[0;34m)\u001b[0m\u001b[0;34m\u001b[0m\u001b[0;34m\u001b[0m\u001b[0m\n\u001b[0m\u001b[1;32m     66\u001b[0m \u001b[0;34m\u001b[0m\u001b[0m\n\u001b[1;32m     67\u001b[0m     \u001b[0;32mreturn\u001b[0m \u001b[0mnew_method\u001b[0m\u001b[0;34m\u001b[0m\u001b[0;34m\u001b[0m\u001b[0m\n",
            "\u001b[0;32m/usr/local/lib/python3.7/dist-packages/pandas/core/arrays/datetimelike.py\u001b[0m in \u001b[0;36m__sub__\u001b[0;34m(self, other)\u001b[0m\n\u001b[1;32m   1486\u001b[0m         \u001b[0;32melif\u001b[0m \u001b[0mis_integer_dtype\u001b[0m\u001b[0;34m(\u001b[0m\u001b[0mother_dtype\u001b[0m\u001b[0;34m)\u001b[0m\u001b[0;34m:\u001b[0m\u001b[0;34m\u001b[0m\u001b[0;34m\u001b[0m\u001b[0m\n\u001b[1;32m   1487\u001b[0m             \u001b[0;32mif\u001b[0m \u001b[0;32mnot\u001b[0m \u001b[0mis_period_dtype\u001b[0m\u001b[0;34m(\u001b[0m\u001b[0mself\u001b[0m\u001b[0;34m.\u001b[0m\u001b[0mdtype\u001b[0m\u001b[0;34m)\u001b[0m\u001b[0;34m:\u001b[0m\u001b[0;34m\u001b[0m\u001b[0;34m\u001b[0m\u001b[0m\n\u001b[0;32m-> 1488\u001b[0;31m                 \u001b[0;32mraise\u001b[0m \u001b[0minteger_op_not_supported\u001b[0m\u001b[0;34m(\u001b[0m\u001b[0mself\u001b[0m\u001b[0;34m)\u001b[0m\u001b[0;34m\u001b[0m\u001b[0;34m\u001b[0m\u001b[0m\n\u001b[0m\u001b[1;32m   1489\u001b[0m             \u001b[0mresult\u001b[0m \u001b[0;34m=\u001b[0m \u001b[0mself\u001b[0m\u001b[0;34m.\u001b[0m\u001b[0m_addsub_int_array\u001b[0m\u001b[0;34m(\u001b[0m\u001b[0mother\u001b[0m\u001b[0;34m,\u001b[0m \u001b[0moperator\u001b[0m\u001b[0;34m.\u001b[0m\u001b[0msub\u001b[0m\u001b[0;34m)\u001b[0m\u001b[0;34m\u001b[0m\u001b[0;34m\u001b[0m\u001b[0m\n\u001b[1;32m   1490\u001b[0m         \u001b[0;32melse\u001b[0m\u001b[0;34m:\u001b[0m\u001b[0;34m\u001b[0m\u001b[0;34m\u001b[0m\u001b[0m\n",
            "\u001b[0;31mTypeError\u001b[0m: Addition/subtraction of integers and integer-arrays with DatetimeArray is no longer supported.  Instead of adding/subtracting `n`, use `n * obj.freq`"
          ]
        }
      ]
    },
    {
      "cell_type": "code",
      "metadata": {
        "colab": {
          "base_uri": "https://localhost:8080/"
        },
        "id": "mwllx8sZYBFI",
        "outputId": "042458e9-fa60-45c7-dcbc-6afabefc1abd"
      },
      "source": [
        "#train.groupby(['locationId'])['unit_sales'].sum()\n",
        "\n",
        "for i in train.locationId.unique():\n",
        "  print (i)"
      ],
      "execution_count": null,
      "outputs": [
        {
          "output_type": "stream",
          "text": [
            "location_25\n",
            "location_1\n",
            "location_2\n",
            "location_3\n",
            "location_4\n",
            "location_5\n",
            "location_6\n",
            "location_7\n",
            "location_8\n",
            "location_9\n",
            "location_10\n",
            "location_11\n",
            "location_12\n",
            "location_13\n",
            "location_14\n",
            "location_15\n",
            "location_16\n",
            "location_17\n",
            "location_18\n",
            "location_19\n",
            "location_23\n",
            "location_24\n",
            "location_26\n",
            "location_27\n",
            "location_28\n",
            "location_30\n",
            "location_31\n",
            "location_32\n",
            "location_33\n",
            "location_34\n",
            "location_35\n",
            "location_37\n",
            "location_38\n",
            "location_39\n",
            "location_40\n",
            "location_41\n",
            "location_43\n",
            "location_44\n",
            "location_45\n",
            "location_46\n",
            "location_47\n",
            "location_48\n",
            "location_49\n",
            "location_50\n",
            "location_51\n",
            "location_54\n",
            "location_36\n",
            "location_53\n",
            "location_20\n",
            "location_29\n",
            "location_21\n",
            "location_42\n",
            "location_22\n"
          ],
          "name": "stdout"
        }
      ]
    },
    {
      "cell_type": "code",
      "metadata": {
        "id": "aeEnV78jHhyI"
      },
      "source": [
        "\n",
        "#t+str.split(i,'_')[1]\n",
        "li=[train.loc[train['locationId']==i] for i in train.locationId.unique()]\n",
        "# for i in train.locationId.unique():\n",
        "\n",
        "#   li=train.loc[train['locationId']==i]\n",
        "  \n"
      ],
      "execution_count": null,
      "outputs": []
    },
    {
      "cell_type": "code",
      "metadata": {
        "colab": {
          "base_uri": "https://localhost:8080/"
        },
        "id": "-PFUepNJvstL",
        "outputId": "9d37c378-aa3c-4754-ab2b-5c28b94d92a8"
      },
      "source": [
        "len(li)"
      ],
      "execution_count": null,
      "outputs": [
        {
          "output_type": "execute_result",
          "data": {
            "text/plain": [
              "53"
            ]
          },
          "metadata": {
            "tags": []
          },
          "execution_count": 49
        }
      ]
    },
    {
      "cell_type": "code",
      "metadata": {
        "id": "GFhuittBYegq"
      },
      "source": [
        "location=pd.read_csv('/content/drive/MyDrive/Final Hack/location_details.csv')\n",
        "item_id=pd.read_csv('/content/drive/MyDrive/Final Hack/item_details.csv')\n",
        "transaction_train=pd.read_csv('/content/drive/MyDrive/Final Hack/train_transactions.csv')"
      ],
      "execution_count": null,
      "outputs": []
    },
    {
      "cell_type": "code",
      "metadata": {
        "colab": {
          "base_uri": "https://localhost:8080/"
        },
        "id": "KjAGBno2Y5PP",
        "outputId": "8104d583-ff78-41af-ffbf-07437790a1cb"
      },
      "source": [
        "location.groupby(['cluster'])['state'].sum()\n",
        "#location.head()"
      ],
      "execution_count": null,
      "outputs": [
        {
          "output_type": "execute_result",
          "data": {
            "text/plain": [
              "cluster\n",
              "1                     MaharashtraUttar PradeshKarnataka\n",
              "2                                    TelanganaTelangana\n",
              "3     NCRMaharashtraMaharashtraTamil NaduAndhra Prad...\n",
              "4                                 NCRGujaratMaharashtra\n",
              "5                                             Karnataka\n",
              "6     KarnatakaWest BengalKarnatakaNCRMaharashtraTel...\n",
              "7                                     ChimborazoGujarat\n",
              "8                           KarnatakaKarnatakaKarnataka\n",
              "9                                      KarnatakaHaryana\n",
              "10    MaharashtraMaharashtraMaharashtraMaharashtraAn...\n",
              "11                         KarnatakaKarnatakaTamil Nadu\n",
              "12                                            Karnataka\n",
              "13                KarnatakaKarnatakaKarnatakaTamil Nadu\n",
              "14                   KarnatakaKarnatakaKarnatakaHaryana\n",
              "15    KarnatakaUttar PradeshUttar PradeshGujaratMadh...\n",
              "16                                            Karnataka\n",
              "17                                          Maharashtra\n",
              "Name: state, dtype: object"
            ]
          },
          "metadata": {
            "tags": []
          },
          "execution_count": 32
        }
      ]
    },
    {
      "cell_type": "code",
      "metadata": {
        "colab": {
          "base_uri": "https://localhost:8080/",
          "height": 204
        },
        "id": "DYpXvv8cY8PL",
        "outputId": "c8771dd7-010c-43f2-98ca-02deaf5d90aa"
      },
      "source": [
        "item_id.head()"
      ],
      "execution_count": null,
      "outputs": [
        {
          "output_type": "execute_result",
          "data": {
            "text/html": [
              "<div>\n",
              "<style scoped>\n",
              "    .dataframe tbody tr th:only-of-type {\n",
              "        vertical-align: middle;\n",
              "    }\n",
              "\n",
              "    .dataframe tbody tr th {\n",
              "        vertical-align: top;\n",
              "    }\n",
              "\n",
              "    .dataframe thead th {\n",
              "        text-align: right;\n",
              "    }\n",
              "</style>\n",
              "<table border=\"1\" class=\"dataframe\">\n",
              "  <thead>\n",
              "    <tr style=\"text-align: right;\">\n",
              "      <th></th>\n",
              "      <th>item_id</th>\n",
              "      <th>category_of_item</th>\n",
              "      <th>class</th>\n",
              "      <th>perishable</th>\n",
              "    </tr>\n",
              "  </thead>\n",
              "  <tbody>\n",
              "    <tr>\n",
              "      <th>0</th>\n",
              "      <td>item_96995</td>\n",
              "      <td>grocery_items</td>\n",
              "      <td>class_1093</td>\n",
              "      <td>0</td>\n",
              "    </tr>\n",
              "    <tr>\n",
              "      <th>1</th>\n",
              "      <td>item_99197</td>\n",
              "      <td>grocery_items</td>\n",
              "      <td>class_1067</td>\n",
              "      <td>0</td>\n",
              "    </tr>\n",
              "    <tr>\n",
              "      <th>2</th>\n",
              "      <td>item_103501</td>\n",
              "      <td>cleaning_utilities</td>\n",
              "      <td>class_3008</td>\n",
              "      <td>0</td>\n",
              "    </tr>\n",
              "    <tr>\n",
              "      <th>3</th>\n",
              "      <td>item_103520</td>\n",
              "      <td>grocery_items</td>\n",
              "      <td>class_1028</td>\n",
              "      <td>0</td>\n",
              "    </tr>\n",
              "    <tr>\n",
              "      <th>4</th>\n",
              "      <td>item_103665</td>\n",
              "      <td>baked_items / bread_based</td>\n",
              "      <td>class_2712</td>\n",
              "      <td>1</td>\n",
              "    </tr>\n",
              "  </tbody>\n",
              "</table>\n",
              "</div>"
            ],
            "text/plain": [
              "       item_id           category_of_item       class  perishable\n",
              "0   item_96995              grocery_items  class_1093           0\n",
              "1   item_99197              grocery_items  class_1067           0\n",
              "2  item_103501         cleaning_utilities  class_3008           0\n",
              "3  item_103520              grocery_items  class_1028           0\n",
              "4  item_103665  baked_items / bread_based  class_2712           1"
            ]
          },
          "metadata": {
            "tags": []
          },
          "execution_count": 10
        }
      ]
    },
    {
      "cell_type": "code",
      "metadata": {
        "colab": {
          "base_uri": "https://localhost:8080/",
          "height": 204
        },
        "id": "ibpPgYSrZCQG",
        "outputId": "8f13149e-0444-4b05-87a1-887d6febc392"
      },
      "source": [
        "transaction_train.head()"
      ],
      "execution_count": null,
      "outputs": [
        {
          "output_type": "execute_result",
          "data": {
            "text/html": [
              "<div>\n",
              "<style scoped>\n",
              "    .dataframe tbody tr th:only-of-type {\n",
              "        vertical-align: middle;\n",
              "    }\n",
              "\n",
              "    .dataframe tbody tr th {\n",
              "        vertical-align: top;\n",
              "    }\n",
              "\n",
              "    .dataframe thead th {\n",
              "        text-align: right;\n",
              "    }\n",
              "</style>\n",
              "<table border=\"1\" class=\"dataframe\">\n",
              "  <thead>\n",
              "    <tr style=\"text-align: right;\">\n",
              "      <th></th>\n",
              "      <th>date</th>\n",
              "      <th>location_identifier</th>\n",
              "      <th>transactions</th>\n",
              "    </tr>\n",
              "  </thead>\n",
              "  <tbody>\n",
              "    <tr>\n",
              "      <th>0</th>\n",
              "      <td>2015-01-01</td>\n",
              "      <td>location_25</td>\n",
              "      <td>770</td>\n",
              "    </tr>\n",
              "    <tr>\n",
              "      <th>1</th>\n",
              "      <td>2015-01-02</td>\n",
              "      <td>location_1</td>\n",
              "      <td>2111</td>\n",
              "    </tr>\n",
              "    <tr>\n",
              "      <th>2</th>\n",
              "      <td>2015-01-02</td>\n",
              "      <td>location_2</td>\n",
              "      <td>2358</td>\n",
              "    </tr>\n",
              "    <tr>\n",
              "      <th>3</th>\n",
              "      <td>2015-01-02</td>\n",
              "      <td>location_3</td>\n",
              "      <td>3487</td>\n",
              "    </tr>\n",
              "    <tr>\n",
              "      <th>4</th>\n",
              "      <td>2015-01-02</td>\n",
              "      <td>location_4</td>\n",
              "      <td>1922</td>\n",
              "    </tr>\n",
              "  </tbody>\n",
              "</table>\n",
              "</div>"
            ],
            "text/plain": [
              "         date location_identifier  transactions\n",
              "0  2015-01-01         location_25           770\n",
              "1  2015-01-02          location_1          2111\n",
              "2  2015-01-02          location_2          2358\n",
              "3  2015-01-02          location_3          3487\n",
              "4  2015-01-02          location_4          1922"
            ]
          },
          "metadata": {
            "tags": []
          },
          "execution_count": 11
        }
      ]
    },
    {
      "cell_type": "markdown",
      "metadata": {
        "id": "RD1vRx43aD7i"
      },
      "source": [
        "**Task 1 : Aggregate/Merge all data to train dataframe**"
      ]
    },
    {
      "cell_type": "code",
      "metadata": {
        "id": "LC8o1fkvZa3X"
      },
      "source": [
        "# train_chunk1=pd.merge(t1,location,how='left',left_on='locationId',right_on='location_id').drop(['location_id'],axis=1)\n",
        "# train_chunk1.cluster.value_counts()\n",
        "train_chunks=pd.merge(li[0],location,how='left',left_on='locationId',right_on='location_id').drop(['location_id'],axis=1)"
      ],
      "execution_count": null,
      "outputs": []
    },
    {
      "cell_type": "markdown",
      "metadata": {
        "id": "Plz7FFIUW4uG"
      },
      "source": [
        "# Using BigData"
      ]
    },
    {
      "cell_type": "code",
      "metadata": {
        "id": "Gole0XQbbibE"
      },
      "source": [
        "!apt-get install openjdk-8-jdk-headless -qq > /dev/null\n",
        "!wget -q https://archive.apache.org/dist/spark/spark-2.3.1/spark-2.3.1-bin-hadoop2.7.tgz\n",
        "!tar xf spark-2.3.1-bin-hadoop2.7.tgz\n",
        "\n",
        "!pip install -q findspark"
      ],
      "execution_count": 4,
      "outputs": []
    },
    {
      "cell_type": "code",
      "metadata": {
        "id": "AMAWQY2FXBUa"
      },
      "source": [
        "import os\n",
        "os.environ[\"JAVA_HOME\"] = \"/usr/lib/jvm/java-8-openjdk-amd64\"\n",
        "os.environ[\"SPARK_HOME\"] = \"/content/spark-2.3.1-bin-hadoop2.7\""
      ],
      "execution_count": 5,
      "outputs": []
    },
    {
      "cell_type": "code",
      "metadata": {
        "id": "HwVie21HXQv6"
      },
      "source": [
        "import findspark\n",
        "findspark.init()"
      ],
      "execution_count": 6,
      "outputs": []
    },
    {
      "cell_type": "code",
      "metadata": {
        "id": "-_DE9ZL-XT53"
      },
      "source": [
        "from pyspark.sql import SparkSession\n",
        "spark = SparkSession.builder\\\n",
        "        .appName(\"Spark ML Application\")\\\n",
        "        .master('local[*]')\\\n",
        "        .getOrCreate()"
      ],
      "execution_count": 7,
      "outputs": []
    },
    {
      "cell_type": "code",
      "metadata": {
        "id": "BwDjTC-ZGwNf"
      },
      "source": [
        "from pyspark.sql.types import *\n",
        "from pyspark.sql.functions import *"
      ],
      "execution_count": 8,
      "outputs": []
    },
    {
      "cell_type": "code",
      "metadata": {
        "id": "cezjHCRdI0L1"
      },
      "source": [
        "TrainDataSchema = StructType([\n",
        "    StructField(\"date\", TimestampType(), True),\n",
        "    StructField(\"locationId\", StringType(), True),\n",
        "    StructField(\"item_id\", StringType(), True),\n",
        "    StructField(\"unit_sales\", DoubleType(), True),\n",
        "    StructField(\"onpromotion\", BooleanType(), True),])"
      ],
      "execution_count": 9,
      "outputs": []
    },
    {
      "cell_type": "code",
      "metadata": {
        "id": "saf0ihRWXXv4"
      },
      "source": [
        "train = spark.read.csv(path='/content/drive/MyDrive/Final_Hack/train.csv',header=True,schema=TrainDataSchema)\n",
        "\n",
        "\n",
        "\n"
      ],
      "execution_count": 12,
      "outputs": []
    },
    {
      "cell_type": "code",
      "metadata": {
        "id": "stRvt0WI3vvd"
      },
      "source": [
        "location=spark.read.csv(path='/content/drive/MyDrive/Final_Hack/location_details.csv',header=True,inferSchema=True)\n",
        "item_id=spark.read.csv(path='/content/drive/MyDrive/Final_Hack/item_details.csv',header=True,inferSchema=True)\n",
        "transactions=spark.read.csv(path='/content/drive/MyDrive/Final_Hack/train_transactions.csv',header=True,inferSchema=True)"
      ],
      "execution_count": 13,
      "outputs": []
    },
    {
      "cell_type": "code",
      "metadata": {
        "id": "ZnGIu77ua-iB",
        "colab": {
          "base_uri": "https://localhost:8080/"
        },
        "outputId": "250923d3-c5c6-4da1-c3d4-cd3d37dedce2"
      },
      "source": [
        "train.printSchema()"
      ],
      "execution_count": 14,
      "outputs": [
        {
          "output_type": "stream",
          "text": [
            "root\n",
            " |-- date: timestamp (nullable = true)\n",
            " |-- locationId: string (nullable = true)\n",
            " |-- item_id: string (nullable = true)\n",
            " |-- unit_sales: double (nullable = true)\n",
            " |-- onpromotion: boolean (nullable = true)\n",
            "\n"
          ],
          "name": "stdout"
        }
      ]
    },
    {
      "cell_type": "code",
      "metadata": {
        "id": "xnYUI0XtIWf6",
        "colab": {
          "base_uri": "https://localhost:8080/"
        },
        "outputId": "f5483c7f-a8fd-495d-ab4e-a366df1f762b"
      },
      "source": [
        "train.show(5)"
      ],
      "execution_count": 80,
      "outputs": [
        {
          "output_type": "stream",
          "text": [
            "+-------------------+-----------+-----------+----------+-----------+\n",
            "|               date| locationId|    item_id|unit_sales|onpromotion|\n",
            "+-------------------+-----------+-----------+----------+-----------+\n",
            "|2015-01-01 00:00:00|location_25|item_103665|       7.0|       null|\n",
            "|2015-01-01 00:00:00|location_25|item_105574|       1.0|       null|\n",
            "|2015-01-01 00:00:00|location_25|item_105575|       2.0|       null|\n",
            "|2015-01-01 00:00:00|location_25|item_108079|       1.0|       null|\n",
            "|2015-01-01 00:00:00|location_25|item_108701|       1.0|       null|\n",
            "+-------------------+-----------+-----------+----------+-----------+\n",
            "only showing top 5 rows\n",
            "\n"
          ],
          "name": "stdout"
        }
      ]
    },
    {
      "cell_type": "code",
      "metadata": {
        "id": "vEPit_Z6JXNz"
      },
      "source": [
        "location=location.withColumnRenamed('location_id','locationId')\n",
        "#location.show(5)"
      ],
      "execution_count": 15,
      "outputs": []
    },
    {
      "cell_type": "code",
      "metadata": {
        "id": "aD7fk0njSlT4"
      },
      "source": [
        "df1=train.join(other=location,on='locationId',how='left')"
      ],
      "execution_count": 16,
      "outputs": []
    },
    {
      "cell_type": "code",
      "metadata": {
        "id": "6QrY7jV3S-z9"
      },
      "source": [
        "#df1.show(5)"
      ],
      "execution_count": 17,
      "outputs": []
    },
    {
      "cell_type": "code",
      "metadata": {
        "id": "qPYN_iD4Vp_z"
      },
      "source": [
        "#item_id.show(5)"
      ],
      "execution_count": 18,
      "outputs": []
    },
    {
      "cell_type": "code",
      "metadata": {
        "id": "9_2298J6XFPj"
      },
      "source": [
        "df2=df1.join(other=item_id,on='item_id',how='left')\n",
        "#df2.show(5)"
      ],
      "execution_count": 19,
      "outputs": []
    },
    {
      "cell_type": "code",
      "metadata": {
        "id": "Y6akvk5yXXoK"
      },
      "source": [
        "print(train.count())\n",
        "print(df2.count())"
      ],
      "execution_count": null,
      "outputs": []
    },
    {
      "cell_type": "code",
      "metadata": {
        "id": "rjtdhgAKZaYq"
      },
      "source": [
        "print(df1.count())"
      ],
      "execution_count": null,
      "outputs": []
    },
    {
      "cell_type": "code",
      "metadata": {
        "id": "E39oEykGdAIF"
      },
      "source": [
        "#transactions.show(5)"
      ],
      "execution_count": null,
      "outputs": []
    },
    {
      "cell_type": "code",
      "metadata": {
        "id": "ihlKPUVGflQ4"
      },
      "source": [
        "transactions=transactions.withColumnRenamed('location_identifier','locationId')\n",
        "#transactions.show(5)"
      ],
      "execution_count": 20,
      "outputs": []
    },
    {
      "cell_type": "code",
      "metadata": {
        "id": "NhqLZkJhtGL1"
      },
      "source": [
        "df3=df2.join(transactions,on=['date','locationId'],how='left')"
      ],
      "execution_count": 21,
      "outputs": []
    },
    {
      "cell_type": "code",
      "metadata": {
        "id": "OW80ryVr-jHx",
        "colab": {
          "base_uri": "https://localhost:8080/"
        },
        "outputId": "f674f1c2-df5c-497b-8428-c1a4a0eecd06"
      },
      "source": [
        "df3.show(5)"
      ],
      "execution_count": 88,
      "outputs": [
        {
          "output_type": "stream",
          "text": [
            "+-------------------+-----------+-----------+----------+-----------+------+-------------+----+-------+--------------------+----------+----------+------------+\n",
            "|               date| locationId|    item_id|unit_sales|onpromotion|  city|        state|type|cluster|    category_of_item|     class|perishable|transactions|\n",
            "+-------------------+-----------+-----------+----------+-----------+------+-------------+----+-------+--------------------+----------+----------+------------+\n",
            "|2015-01-01 00:00:00|location_25|item_103665|       7.0|       null|Kanpur|Uttar Pradesh|   D|      1|baked_items / bre...|class_2712|         1|         770|\n",
            "|2015-01-01 00:00:00|location_25|item_105574|       1.0|       null|Kanpur|Uttar Pradesh|   D|      1|       grocery_items|class_1045|         0|         770|\n",
            "|2015-01-01 00:00:00|location_25|item_105575|       2.0|       null|Kanpur|Uttar Pradesh|   D|      1|       grocery_items|class_1045|         0|         770|\n",
            "|2015-01-01 00:00:00|location_25|item_108079|       1.0|       null|Kanpur|Uttar Pradesh|   D|      1|       grocery_items|class_1030|         0|         770|\n",
            "|2015-01-01 00:00:00|location_25|item_108701|       1.0|       null|Kanpur|Uttar Pradesh|   D|      1|          deli_items|class_2644|         1|         770|\n",
            "+-------------------+-----------+-----------+----------+-----------+------+-------------+----+-------+--------------------+----------+----------+------------+\n",
            "only showing top 5 rows\n",
            "\n"
          ],
          "name": "stdout"
        }
      ]
    },
    {
      "cell_type": "code",
      "metadata": {
        "id": "VRCqPInp-qCU"
      },
      "source": [
        "df3.groupby('date','locationId').sum('unit_sales').show()"
      ],
      "execution_count": null,
      "outputs": []
    },
    {
      "cell_type": "markdown",
      "metadata": {
        "id": "vq_n1tJJdk6j"
      },
      "source": [
        "**Subsetting only for one Item among 4000 items**"
      ]
    },
    {
      "cell_type": "code",
      "metadata": {
        "id": "48U83Gzc_qkZ"
      },
      "source": [
        "# df_item_103665=df3.where(df3('item_id')='item_103665')\n",
        "df_item_103665=df3.filter(df3.item_id == \"item_103665\")"
      ],
      "execution_count": 22,
      "outputs": []
    },
    {
      "cell_type": "code",
      "metadata": {
        "id": "KVKE2fMDDpGj"
      },
      "source": [
        "df_item_103665.show()"
      ],
      "execution_count": null,
      "outputs": []
    },
    {
      "cell_type": "markdown",
      "metadata": {
        "id": "iIUUXR09dtdJ"
      },
      "source": [
        "**Converting spark Dataframe to Pandas Dataframe for faster Analysis**"
      ]
    },
    {
      "cell_type": "code",
      "metadata": {
        "id": "m4DJIKjqzXM6"
      },
      "source": [
        "pdf_item_103665=df_item_103665.toPandas()"
      ],
      "execution_count": 23,
      "outputs": []
    },
    {
      "cell_type": "code",
      "metadata": {
        "id": "1WqimWJI8sVk",
        "colab": {
          "base_uri": "https://localhost:8080/"
        },
        "outputId": "04160c71-093a-4bcd-a98f-0949ada1e54b"
      },
      "source": [
        "pdf_item_103665.shape"
      ],
      "execution_count": 24,
      "outputs": [
        {
          "output_type": "execute_result",
          "data": {
            "text/plain": [
              "(43256, 13)"
            ]
          },
          "metadata": {
            "tags": []
          },
          "execution_count": 24
        }
      ]
    },
    {
      "cell_type": "code",
      "metadata": {
        "id": "EfXl3-Ih_DDd"
      },
      "source": [
        "#pdf_item_103665.to_pickle(path='/content/drive/MyDrive/Final_Hack/dataframe')"
      ],
      "execution_count": 93,
      "outputs": []
    },
    {
      "cell_type": "code",
      "metadata": {
        "id": "3Wo7x_bpDikE"
      },
      "source": [
        "pdf_item_103665['year']=pdf_item_103665['date'].dt.year\n",
        "pdf_item_103665['month']=pdf_item_103665['date'].dt.month"
      ],
      "execution_count": 25,
      "outputs": []
    },
    {
      "cell_type": "code",
      "metadata": {
        "colab": {
          "base_uri": "https://localhost:8080/",
          "height": 204
        },
        "id": "R78f1jUiZkbd",
        "outputId": "4a4aea41-dafd-4347-c2a9-1317c4f6fa18"
      },
      "source": [
        "pdf_item_103665.head()"
      ],
      "execution_count": 26,
      "outputs": [
        {
          "output_type": "execute_result",
          "data": {
            "text/html": [
              "<div>\n",
              "<style scoped>\n",
              "    .dataframe tbody tr th:only-of-type {\n",
              "        vertical-align: middle;\n",
              "    }\n",
              "\n",
              "    .dataframe tbody tr th {\n",
              "        vertical-align: top;\n",
              "    }\n",
              "\n",
              "    .dataframe thead th {\n",
              "        text-align: right;\n",
              "    }\n",
              "</style>\n",
              "<table border=\"1\" class=\"dataframe\">\n",
              "  <thead>\n",
              "    <tr style=\"text-align: right;\">\n",
              "      <th></th>\n",
              "      <th>date</th>\n",
              "      <th>locationId</th>\n",
              "      <th>item_id</th>\n",
              "      <th>unit_sales</th>\n",
              "      <th>onpromotion</th>\n",
              "      <th>city</th>\n",
              "      <th>state</th>\n",
              "      <th>type</th>\n",
              "      <th>cluster</th>\n",
              "      <th>category_of_item</th>\n",
              "      <th>class</th>\n",
              "      <th>perishable</th>\n",
              "      <th>transactions</th>\n",
              "      <th>year</th>\n",
              "      <th>month</th>\n",
              "    </tr>\n",
              "  </thead>\n",
              "  <tbody>\n",
              "    <tr>\n",
              "      <th>0</th>\n",
              "      <td>2015-01-01</td>\n",
              "      <td>location_25</td>\n",
              "      <td>item_103665</td>\n",
              "      <td>7.0</td>\n",
              "      <td>None</td>\n",
              "      <td>Kanpur</td>\n",
              "      <td>Uttar Pradesh</td>\n",
              "      <td>D</td>\n",
              "      <td>1</td>\n",
              "      <td>baked_items / bread_based</td>\n",
              "      <td>class_2712</td>\n",
              "      <td>1</td>\n",
              "      <td>770.0</td>\n",
              "      <td>2015</td>\n",
              "      <td>1</td>\n",
              "    </tr>\n",
              "    <tr>\n",
              "      <th>1</th>\n",
              "      <td>2015-01-02</td>\n",
              "      <td>location_1</td>\n",
              "      <td>item_103665</td>\n",
              "      <td>2.0</td>\n",
              "      <td>None</td>\n",
              "      <td>Bengaluru</td>\n",
              "      <td>Karnataka</td>\n",
              "      <td>D</td>\n",
              "      <td>13</td>\n",
              "      <td>baked_items / bread_based</td>\n",
              "      <td>class_2712</td>\n",
              "      <td>1</td>\n",
              "      <td>2111.0</td>\n",
              "      <td>2015</td>\n",
              "      <td>1</td>\n",
              "    </tr>\n",
              "    <tr>\n",
              "      <th>2</th>\n",
              "      <td>2015-01-02</td>\n",
              "      <td>location_2</td>\n",
              "      <td>item_103665</td>\n",
              "      <td>5.0</td>\n",
              "      <td>None</td>\n",
              "      <td>Bengaluru</td>\n",
              "      <td>Karnataka</td>\n",
              "      <td>D</td>\n",
              "      <td>13</td>\n",
              "      <td>baked_items / bread_based</td>\n",
              "      <td>class_2712</td>\n",
              "      <td>1</td>\n",
              "      <td>2358.0</td>\n",
              "      <td>2015</td>\n",
              "      <td>1</td>\n",
              "    </tr>\n",
              "    <tr>\n",
              "      <th>3</th>\n",
              "      <td>2015-01-02</td>\n",
              "      <td>location_3</td>\n",
              "      <td>item_103665</td>\n",
              "      <td>6.0</td>\n",
              "      <td>None</td>\n",
              "      <td>Bengaluru</td>\n",
              "      <td>Karnataka</td>\n",
              "      <td>D</td>\n",
              "      <td>8</td>\n",
              "      <td>baked_items / bread_based</td>\n",
              "      <td>class_2712</td>\n",
              "      <td>1</td>\n",
              "      <td>3487.0</td>\n",
              "      <td>2015</td>\n",
              "      <td>1</td>\n",
              "    </tr>\n",
              "    <tr>\n",
              "      <th>4</th>\n",
              "      <td>2015-01-02</td>\n",
              "      <td>location_4</td>\n",
              "      <td>item_103665</td>\n",
              "      <td>2.0</td>\n",
              "      <td>None</td>\n",
              "      <td>Bengaluru</td>\n",
              "      <td>Karnataka</td>\n",
              "      <td>D</td>\n",
              "      <td>9</td>\n",
              "      <td>baked_items / bread_based</td>\n",
              "      <td>class_2712</td>\n",
              "      <td>1</td>\n",
              "      <td>1922.0</td>\n",
              "      <td>2015</td>\n",
              "      <td>1</td>\n",
              "    </tr>\n",
              "  </tbody>\n",
              "</table>\n",
              "</div>"
            ],
            "text/plain": [
              "        date   locationId      item_id  ...  transactions  year month\n",
              "0 2015-01-01  location_25  item_103665  ...         770.0  2015     1\n",
              "1 2015-01-02   location_1  item_103665  ...        2111.0  2015     1\n",
              "2 2015-01-02   location_2  item_103665  ...        2358.0  2015     1\n",
              "3 2015-01-02   location_3  item_103665  ...        3487.0  2015     1\n",
              "4 2015-01-02   location_4  item_103665  ...        1922.0  2015     1\n",
              "\n",
              "[5 rows x 15 columns]"
            ]
          },
          "metadata": {
            "tags": []
          },
          "execution_count": 26
        }
      ]
    },
    {
      "cell_type": "markdown",
      "metadata": {
        "id": "XW3mFA7Nd6aq"
      },
      "source": [
        "**Subsetting Year wise sales for Item_id = item_103665**"
      ]
    },
    {
      "cell_type": "code",
      "metadata": {
        "colab": {
          "base_uri": "https://localhost:8080/",
          "height": 204
        },
        "id": "q-FvL94yde07",
        "outputId": "94d6a95b-f887-4060-f023-e3f10704d5d8"
      },
      "source": [
        "# pdf_2015=pdf_item_103665[pdf_item_103665['year']==2015]\n",
        "# pdf_2016=pdf_item_103665[pdf_item_103665['year']==2016]\n",
        "# pdf_2017=pdf_item_103665[pdf_item_103665['year']==2017]\n",
        "# pdf_2018=pdf_item_103665[pdf_item_103665['year']==2018]\n",
        "# pdf_2015.head()"
      ],
      "execution_count": 32,
      "outputs": [
        {
          "output_type": "execute_result",
          "data": {
            "text/html": [
              "<div>\n",
              "<style scoped>\n",
              "    .dataframe tbody tr th:only-of-type {\n",
              "        vertical-align: middle;\n",
              "    }\n",
              "\n",
              "    .dataframe tbody tr th {\n",
              "        vertical-align: top;\n",
              "    }\n",
              "\n",
              "    .dataframe thead th {\n",
              "        text-align: right;\n",
              "    }\n",
              "</style>\n",
              "<table border=\"1\" class=\"dataframe\">\n",
              "  <thead>\n",
              "    <tr style=\"text-align: right;\">\n",
              "      <th></th>\n",
              "      <th>date</th>\n",
              "      <th>locationId</th>\n",
              "      <th>item_id</th>\n",
              "      <th>unit_sales</th>\n",
              "      <th>onpromotion</th>\n",
              "      <th>city</th>\n",
              "      <th>state</th>\n",
              "      <th>type</th>\n",
              "      <th>cluster</th>\n",
              "      <th>category_of_item</th>\n",
              "      <th>class</th>\n",
              "      <th>perishable</th>\n",
              "      <th>transactions</th>\n",
              "      <th>year</th>\n",
              "      <th>month</th>\n",
              "    </tr>\n",
              "  </thead>\n",
              "  <tbody>\n",
              "    <tr>\n",
              "      <th>0</th>\n",
              "      <td>2015-01-01</td>\n",
              "      <td>location_25</td>\n",
              "      <td>item_103665</td>\n",
              "      <td>7.0</td>\n",
              "      <td>None</td>\n",
              "      <td>Kanpur</td>\n",
              "      <td>Uttar Pradesh</td>\n",
              "      <td>D</td>\n",
              "      <td>1</td>\n",
              "      <td>baked_items / bread_based</td>\n",
              "      <td>class_2712</td>\n",
              "      <td>1</td>\n",
              "      <td>770.0</td>\n",
              "      <td>2015</td>\n",
              "      <td>1</td>\n",
              "    </tr>\n",
              "    <tr>\n",
              "      <th>1</th>\n",
              "      <td>2015-01-02</td>\n",
              "      <td>location_1</td>\n",
              "      <td>item_103665</td>\n",
              "      <td>2.0</td>\n",
              "      <td>None</td>\n",
              "      <td>Bengaluru</td>\n",
              "      <td>Karnataka</td>\n",
              "      <td>D</td>\n",
              "      <td>13</td>\n",
              "      <td>baked_items / bread_based</td>\n",
              "      <td>class_2712</td>\n",
              "      <td>1</td>\n",
              "      <td>2111.0</td>\n",
              "      <td>2015</td>\n",
              "      <td>1</td>\n",
              "    </tr>\n",
              "    <tr>\n",
              "      <th>2</th>\n",
              "      <td>2015-01-02</td>\n",
              "      <td>location_2</td>\n",
              "      <td>item_103665</td>\n",
              "      <td>5.0</td>\n",
              "      <td>None</td>\n",
              "      <td>Bengaluru</td>\n",
              "      <td>Karnataka</td>\n",
              "      <td>D</td>\n",
              "      <td>13</td>\n",
              "      <td>baked_items / bread_based</td>\n",
              "      <td>class_2712</td>\n",
              "      <td>1</td>\n",
              "      <td>2358.0</td>\n",
              "      <td>2015</td>\n",
              "      <td>1</td>\n",
              "    </tr>\n",
              "    <tr>\n",
              "      <th>3</th>\n",
              "      <td>2015-01-02</td>\n",
              "      <td>location_3</td>\n",
              "      <td>item_103665</td>\n",
              "      <td>6.0</td>\n",
              "      <td>None</td>\n",
              "      <td>Bengaluru</td>\n",
              "      <td>Karnataka</td>\n",
              "      <td>D</td>\n",
              "      <td>8</td>\n",
              "      <td>baked_items / bread_based</td>\n",
              "      <td>class_2712</td>\n",
              "      <td>1</td>\n",
              "      <td>3487.0</td>\n",
              "      <td>2015</td>\n",
              "      <td>1</td>\n",
              "    </tr>\n",
              "    <tr>\n",
              "      <th>4</th>\n",
              "      <td>2015-01-02</td>\n",
              "      <td>location_4</td>\n",
              "      <td>item_103665</td>\n",
              "      <td>2.0</td>\n",
              "      <td>None</td>\n",
              "      <td>Bengaluru</td>\n",
              "      <td>Karnataka</td>\n",
              "      <td>D</td>\n",
              "      <td>9</td>\n",
              "      <td>baked_items / bread_based</td>\n",
              "      <td>class_2712</td>\n",
              "      <td>1</td>\n",
              "      <td>1922.0</td>\n",
              "      <td>2015</td>\n",
              "      <td>1</td>\n",
              "    </tr>\n",
              "  </tbody>\n",
              "</table>\n",
              "</div>"
            ],
            "text/plain": [
              "        date   locationId      item_id  ...  transactions  year month\n",
              "0 2015-01-01  location_25  item_103665  ...         770.0  2015     1\n",
              "1 2015-01-02   location_1  item_103665  ...        2111.0  2015     1\n",
              "2 2015-01-02   location_2  item_103665  ...        2358.0  2015     1\n",
              "3 2015-01-02   location_3  item_103665  ...        3487.0  2015     1\n",
              "4 2015-01-02   location_4  item_103665  ...        1922.0  2015     1\n",
              "\n",
              "[5 rows x 15 columns]"
            ]
          },
          "metadata": {
            "tags": []
          },
          "execution_count": 32
        }
      ]
    },
    {
      "cell_type": "code",
      "metadata": {
        "id": "bI_XpBxzemcI"
      },
      "source": [
        "# pdf_2015=pdf_2015.set_index(['date'])\n",
        "# pdf_2015.index=pd.to_datetime(pdf_2015.index,unit='s')\n",
        "# pdf_2016=pdf_2016.set_index(['date'])\n",
        "# pdf_2016.index=pd.to_datetime(pdf_2016.index,unit='s')\n",
        "# pdf_2017=pdf_2017.set_index(['date'])\n",
        "# pdf_2017.index=pd.to_datetime(pdf_2017.index,unit='s')\n",
        "# pdf_2018=pdf_2018.set_index(['date'])\n",
        "# pdf_2018.index=pd.to_datetime(pdf_2018.index,unit='s')\n",
        "pdf_item_103665=pdf_item_103665.set_index(['date'])\n",
        "pdf_item_103665.index=pd.to_datetime(pdf_item_103665.index,unit='s')"
      ],
      "execution_count": 46,
      "outputs": []
    },
    {
      "cell_type": "code",
      "metadata": {
        "colab": {
          "base_uri": "https://localhost:8080/",
          "height": 729
        },
        "id": "1P3MBAo7fDPd",
        "outputId": "8e575b65-2517-4b37-b4bf-257cc76c4a61"
      },
      "source": [
        "num_states = len(pdf_item_103665['state'].unique())\n",
        "fig, axes = plt.subplots( figsize=(14, 10))\n",
        "\n",
        "flag=0\n",
        "for s in pdf_item_103665['state'].unique():\n",
        "    # t1 = pdf_2015.loc[pdf_2015['state'] == s, 'unit_sales'].resample('M').sum()\n",
        "    # t2 = pdf_2016.loc[pdf_2016['state'] == s, 'unit_sales'].resample('M').sum()\n",
        "    # t3 = pdf_2017.loc[pdf_2017['state'] == s, 'unit_sales'].resample('M').sum()\n",
        "    # t4 = pdf_2018.loc[pdf_2018['state'] == s, 'unit_sales'].resample('M').sum()\n",
        "    # ax1 = t1.plot(ax=axes[flag],c='green')  \n",
        "    # ax2 = t2.plot(ax=axes[flag],c='red') \n",
        "    # ax3 = t3.plot(ax=axes[flag],c='blue') \n",
        "    # ax4 = t4.plot(ax=axes[flag],c='magenta')  \n",
        "    # #ax = t.plot(ax=axes[flag],c='green')\n",
        "    # ax1.grid()\n",
        "    # ax1.set_xlabel(s)\n",
        "    # ax1.set_ylabel('sales')\n",
        "    # ax2.grid()\n",
        "    # ax2.set_xlabel(s)\n",
        "    # ax2.set_ylabel('sales')\n",
        "    # ax3.grid()\n",
        "    # ax3.set_xlabel(s)\n",
        "    # ax3.set_ylabel('sales')\n",
        "    # ax4.grid()\n",
        "    # ax4.set_xlabel(s)\n",
        "    # ax4.set_ylabel('sales')\n",
        "    t = pdf_item_103665.loc[pdf_item_103665['state'] == s, 'unit_sales'].resample('M').sum()\n",
        "    ax = t.plot(label=s) \n",
        "    ax.grid()\n",
        "    ax.set_xlabel(s)\n",
        "    ax.set_ylabel('sales')\n",
        "    ax.legend()\n",
        "    flag=flag+1\n",
        "fig.tight_layout();"
      ],
      "execution_count": 60,
      "outputs": [
        {
          "output_type": "display_data",
          "data": {
            "image/png": "[encoded data removed]",
            "text/plain": [
              "<Figure size 1008x720 with 1 Axes>"
            ]
          },
          "metadata": {
            "tags": [],
            "needs_background": "light"
          }
        }
      ]
    },
    {
      "cell_type": "code",
      "metadata": {
        "id": "-gOTAi5of-cd"
      },
      "source": [
        ""
      ],
      "execution_count": null,
      "outputs": []
    }
  ]
}